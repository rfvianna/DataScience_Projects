{
 "cells": [
  {
   "cell_type": "code",
   "execution_count": 1,
   "id": "9ced115e",
   "metadata": {},
   "outputs": [],
   "source": [
    "import numpy as np\n",
    "import pandas as pd\n",
    "import matplotlib.pyplot as plt"
   ]
  },
  {
   "cell_type": "code",
   "execution_count": 2,
   "id": "880b36c3",
   "metadata": {},
   "outputs": [
    {
     "data": {
      "text/html": [
       "<div>\n",
       "<style scoped>\n",
       "    .dataframe tbody tr th:only-of-type {\n",
       "        vertical-align: middle;\n",
       "    }\n",
       "\n",
       "    .dataframe tbody tr th {\n",
       "        vertical-align: top;\n",
       "    }\n",
       "\n",
       "    .dataframe thead th {\n",
       "        text-align: right;\n",
       "    }\n",
       "</style>\n",
       "<table border=\"1\" class=\"dataframe\">\n",
       "  <thead>\n",
       "    <tr style=\"text-align: right;\">\n",
       "      <th></th>\n",
       "      <th>model</th>\n",
       "      <th>year</th>\n",
       "      <th>price</th>\n",
       "      <th>transmission</th>\n",
       "      <th>mileage</th>\n",
       "      <th>fuelType</th>\n",
       "      <th>engineSize</th>\n",
       "    </tr>\n",
       "  </thead>\n",
       "  <tbody>\n",
       "    <tr>\n",
       "      <th>0</th>\n",
       "      <td>Focus</td>\n",
       "      <td>2016</td>\n",
       "      <td>8000</td>\n",
       "      <td>Manual</td>\n",
       "      <td>38852</td>\n",
       "      <td>Petrol</td>\n",
       "      <td>1.0</td>\n",
       "    </tr>\n",
       "    <tr>\n",
       "      <th>1</th>\n",
       "      <td>Focus</td>\n",
       "      <td>2019</td>\n",
       "      <td>13400</td>\n",
       "      <td>Manual</td>\n",
       "      <td>11952</td>\n",
       "      <td>Petrol</td>\n",
       "      <td>1.0</td>\n",
       "    </tr>\n",
       "    <tr>\n",
       "      <th>2</th>\n",
       "      <td>Focus</td>\n",
       "      <td>2019</td>\n",
       "      <td>14600</td>\n",
       "      <td>Manual</td>\n",
       "      <td>22142</td>\n",
       "      <td>Petrol</td>\n",
       "      <td>1.5</td>\n",
       "    </tr>\n",
       "    <tr>\n",
       "      <th>3</th>\n",
       "      <td>Focus</td>\n",
       "      <td>2016</td>\n",
       "      <td>9450</td>\n",
       "      <td>Manual</td>\n",
       "      <td>14549</td>\n",
       "      <td>Diesel</td>\n",
       "      <td>1.6</td>\n",
       "    </tr>\n",
       "    <tr>\n",
       "      <th>4</th>\n",
       "      <td>Focus</td>\n",
       "      <td>2015</td>\n",
       "      <td>9999</td>\n",
       "      <td>Manual</td>\n",
       "      <td>7010</td>\n",
       "      <td>Diesel</td>\n",
       "      <td>1.6</td>\n",
       "    </tr>\n",
       "    <tr>\n",
       "      <th>...</th>\n",
       "      <td>...</td>\n",
       "      <td>...</td>\n",
       "      <td>...</td>\n",
       "      <td>...</td>\n",
       "      <td>...</td>\n",
       "      <td>...</td>\n",
       "      <td>...</td>\n",
       "    </tr>\n",
       "    <tr>\n",
       "      <th>5449</th>\n",
       "      <td>Focus</td>\n",
       "      <td>2019</td>\n",
       "      <td>18745</td>\n",
       "      <td>Manual</td>\n",
       "      <td>7855</td>\n",
       "      <td>Diesel</td>\n",
       "      <td>2.0</td>\n",
       "    </tr>\n",
       "    <tr>\n",
       "      <th>5450</th>\n",
       "      <td>Focus</td>\n",
       "      <td>2019</td>\n",
       "      <td>16350</td>\n",
       "      <td>Manual</td>\n",
       "      <td>13891</td>\n",
       "      <td>Petrol</td>\n",
       "      <td>1.0</td>\n",
       "    </tr>\n",
       "    <tr>\n",
       "      <th>5451</th>\n",
       "      <td>Focus</td>\n",
       "      <td>2019</td>\n",
       "      <td>16850</td>\n",
       "      <td>Manual</td>\n",
       "      <td>13452</td>\n",
       "      <td>Petrol</td>\n",
       "      <td>1.0</td>\n",
       "    </tr>\n",
       "    <tr>\n",
       "      <th>5452</th>\n",
       "      <td>Focus</td>\n",
       "      <td>2019</td>\n",
       "      <td>17310</td>\n",
       "      <td>Automatic</td>\n",
       "      <td>13376</td>\n",
       "      <td>Petrol</td>\n",
       "      <td>1.0</td>\n",
       "    </tr>\n",
       "    <tr>\n",
       "      <th>5453</th>\n",
       "      <td>Focus</td>\n",
       "      <td>2019</td>\n",
       "      <td>17610</td>\n",
       "      <td>Automatic</td>\n",
       "      <td>7886</td>\n",
       "      <td>Petrol</td>\n",
       "      <td>1.0</td>\n",
       "    </tr>\n",
       "  </tbody>\n",
       "</table>\n",
       "<p>5454 rows × 7 columns</p>\n",
       "</div>"
      ],
      "text/plain": [
       "       model  year  price transmission  mileage fuelType  engineSize\n",
       "0      Focus  2016   8000       Manual    38852   Petrol         1.0\n",
       "1      Focus  2019  13400       Manual    11952   Petrol         1.0\n",
       "2      Focus  2019  14600       Manual    22142   Petrol         1.5\n",
       "3      Focus  2016   9450       Manual    14549   Diesel         1.6\n",
       "4      Focus  2015   9999       Manual     7010   Diesel         1.6\n",
       "...      ...   ...    ...          ...      ...      ...         ...\n",
       "5449   Focus  2019  18745       Manual     7855   Diesel         2.0\n",
       "5450   Focus  2019  16350       Manual    13891   Petrol         1.0\n",
       "5451   Focus  2019  16850       Manual    13452   Petrol         1.0\n",
       "5452   Focus  2019  17310    Automatic    13376   Petrol         1.0\n",
       "5453   Focus  2019  17610    Automatic     7886   Petrol         1.0\n",
       "\n",
       "[5454 rows x 7 columns]"
      ]
     },
     "execution_count": 2,
     "metadata": {},
     "output_type": "execute_result"
    }
   ],
   "source": [
    "df = pd.read_csv('car_price_regression/focus.csv')\n",
    "df"
   ]
  },
  {
   "cell_type": "markdown",
   "id": "9c8d535d",
   "metadata": {},
   "source": [
    "# Preliminary analysis"
   ]
  },
  {
   "cell_type": "code",
   "execution_count": 3,
   "id": "5c6a9cd0",
   "metadata": {},
   "outputs": [
    {
     "data": {
      "text/plain": [
       "[<matplotlib.lines.Line2D at 0x1de19d24b80>]"
      ]
     },
     "execution_count": 3,
     "metadata": {},
     "output_type": "execute_result"
    },
    {
     "data": {
      "image/png": "[encoded data removed]",
      "text/plain": [
       "<Figure size 1080x360 with 1 Axes>"
      ]
     },
     "metadata": {
      "needs_background": "light"
     },
     "output_type": "display_data"
    }
   ],
   "source": [
    "plt.figure(figsize=(15, 5))\n",
    "plt.plot(df.mileage,df.price, '.')"
   ]
  },
  {
   "cell_type": "code",
   "execution_count": 5,
   "id": "d1dae1c4",
   "metadata": {
    "scrolled": true
   },
   "outputs": [
    {
     "data": {
      "text/plain": [
       "[<matplotlib.lines.Line2D at 0x1de1a496a30>]"
      ]
     },
     "execution_count": 5,
     "metadata": {},
     "output_type": "execute_result"
    },
    {
     "data": {
      "image/png": "[encoded data removed]",
      "text/plain": [
       "<Figure size 1080x360 with 1 Axes>"
      ]
     },
     "metadata": {
      "needs_background": "light"
     },
     "output_type": "display_data"
    }
   ],
   "source": [
    "plt.figure(figsize=(15, 5))\n",
    "plt.plot(df.mileage,df.price, '.')\n",
    "plt.plot(df.loc[df.transmission=='Manual'].mileage,df.loc[df.transmission=='Manual'].price, 'r.', alpha=.3)"
   ]
  },
  {
   "cell_type": "markdown",
   "id": "c621c4aa",
   "metadata": {},
   "source": [
    "### Manual cars have a depreciation cost similar as the automatic ones. That means that manual cars do not depreciate faster than automatic cars."
   ]
  },
  {
   "cell_type": "code",
   "execution_count": 7,
   "id": "e3af4f6d",
   "metadata": {
    "scrolled": true
   },
   "outputs": [
    {
     "data": {
      "text/plain": [
       "[<matplotlib.lines.Line2D at 0x1de1a85a310>]"
      ]
     },
     "execution_count": 7,
     "metadata": {},
     "output_type": "execute_result"
    },
    {
     "data": {
      "image/png": "[encoded data removed]",
      "text/plain": [
       "<Figure size 1080x360 with 1 Axes>"
      ]
     },
     "metadata": {
      "needs_background": "light"
     },
     "output_type": "display_data"
    }
   ],
   "source": [
    "plt.figure(figsize=(15, 5))\n",
    "plt.plot(df.mileage,df.price, '.')\n",
    "plt.plot(df.loc[df.year==2016].mileage,df.loc[df.year==2016].price, 'r.')"
   ]
  },
  {
   "cell_type": "markdown",
   "id": "1c363e93",
   "metadata": {},
   "source": [
    "### All of the \"older\" vehicles, regardless of whether they have a high mileage or not, suffer from price depreciation."
   ]
  },
  {
   "cell_type": "markdown",
   "id": "9b7a4899",
   "metadata": {},
   "source": [
    "# Objective: Understand how these variables influence the sales price"
   ]
  },
  {
   "cell_type": "code",
   "execution_count": 8,
   "id": "4123c549",
   "metadata": {},
   "outputs": [
    {
     "data": {
      "text/html": [
       "<div>\n",
       "<style scoped>\n",
       "    .dataframe tbody tr th:only-of-type {\n",
       "        vertical-align: middle;\n",
       "    }\n",
       "\n",
       "    .dataframe tbody tr th {\n",
       "        vertical-align: top;\n",
       "    }\n",
       "\n",
       "    .dataframe thead th {\n",
       "        text-align: right;\n",
       "    }\n",
       "</style>\n",
       "<table border=\"1\" class=\"dataframe\">\n",
       "  <thead>\n",
       "    <tr style=\"text-align: right;\">\n",
       "      <th></th>\n",
       "      <th>model</th>\n",
       "      <th>year</th>\n",
       "      <th>price</th>\n",
       "      <th>transmission</th>\n",
       "      <th>mileage</th>\n",
       "      <th>fuelType</th>\n",
       "      <th>engineSize</th>\n",
       "    </tr>\n",
       "  </thead>\n",
       "  <tbody>\n",
       "    <tr>\n",
       "      <th>0</th>\n",
       "      <td>Focus</td>\n",
       "      <td>2016</td>\n",
       "      <td>8000</td>\n",
       "      <td>Manual</td>\n",
       "      <td>38852</td>\n",
       "      <td>Petrol</td>\n",
       "      <td>1.0</td>\n",
       "    </tr>\n",
       "    <tr>\n",
       "      <th>1</th>\n",
       "      <td>Focus</td>\n",
       "      <td>2019</td>\n",
       "      <td>13400</td>\n",
       "      <td>Manual</td>\n",
       "      <td>11952</td>\n",
       "      <td>Petrol</td>\n",
       "      <td>1.0</td>\n",
       "    </tr>\n",
       "    <tr>\n",
       "      <th>2</th>\n",
       "      <td>Focus</td>\n",
       "      <td>2019</td>\n",
       "      <td>14600</td>\n",
       "      <td>Manual</td>\n",
       "      <td>22142</td>\n",
       "      <td>Petrol</td>\n",
       "      <td>1.5</td>\n",
       "    </tr>\n",
       "    <tr>\n",
       "      <th>3</th>\n",
       "      <td>Focus</td>\n",
       "      <td>2016</td>\n",
       "      <td>9450</td>\n",
       "      <td>Manual</td>\n",
       "      <td>14549</td>\n",
       "      <td>Diesel</td>\n",
       "      <td>1.6</td>\n",
       "    </tr>\n",
       "    <tr>\n",
       "      <th>4</th>\n",
       "      <td>Focus</td>\n",
       "      <td>2015</td>\n",
       "      <td>9999</td>\n",
       "      <td>Manual</td>\n",
       "      <td>7010</td>\n",
       "      <td>Diesel</td>\n",
       "      <td>1.6</td>\n",
       "    </tr>\n",
       "  </tbody>\n",
       "</table>\n",
       "</div>"
      ],
      "text/plain": [
       "    model  year  price transmission  mileage fuelType  engineSize\n",
       "0   Focus  2016   8000       Manual    38852   Petrol         1.0\n",
       "1   Focus  2019  13400       Manual    11952   Petrol         1.0\n",
       "2   Focus  2019  14600       Manual    22142   Petrol         1.5\n",
       "3   Focus  2016   9450       Manual    14549   Diesel         1.6\n",
       "4   Focus  2015   9999       Manual     7010   Diesel         1.6"
      ]
     },
     "execution_count": 8,
     "metadata": {},
     "output_type": "execute_result"
    }
   ],
   "source": [
    "df.head()"
   ]
  },
  {
   "cell_type": "code",
   "execution_count": 9,
   "id": "b500287e",
   "metadata": {},
   "outputs": [
    {
     "data": {
      "text/plain": [
       " Focus    5454\n",
       "Name: model, dtype: int64"
      ]
     },
     "execution_count": 9,
     "metadata": {},
     "output_type": "execute_result"
    }
   ],
   "source": [
    "df.model.value_counts(dropna=False)"
   ]
  },
  {
   "cell_type": "code",
   "execution_count": 10,
   "id": "3304d19a",
   "metadata": {},
   "outputs": [
    {
     "data": {
      "text/plain": [
       "(5454, 7)"
      ]
     },
     "execution_count": 10,
     "metadata": {},
     "output_type": "execute_result"
    }
   ],
   "source": [
    "df.shape"
   ]
  },
  {
   "cell_type": "markdown",
   "id": "fa9c7c49",
   "metadata": {},
   "source": [
    "## Since this dataset is exclusive to the car model 'Focus', this column can be dropped."
   ]
  },
  {
   "cell_type": "code",
   "execution_count": 12,
   "id": "c9c041ee",
   "metadata": {},
   "outputs": [
    {
     "data": {
      "text/html": [
       "<div>\n",
       "<style scoped>\n",
       "    .dataframe tbody tr th:only-of-type {\n",
       "        vertical-align: middle;\n",
       "    }\n",
       "\n",
       "    .dataframe tbody tr th {\n",
       "        vertical-align: top;\n",
       "    }\n",
       "\n",
       "    .dataframe thead th {\n",
       "        text-align: right;\n",
       "    }\n",
       "</style>\n",
       "<table border=\"1\" class=\"dataframe\">\n",
       "  <thead>\n",
       "    <tr style=\"text-align: right;\">\n",
       "      <th></th>\n",
       "      <th>year</th>\n",
       "      <th>price</th>\n",
       "      <th>transmission</th>\n",
       "      <th>mileage</th>\n",
       "      <th>fuelType</th>\n",
       "      <th>engineSize</th>\n",
       "    </tr>\n",
       "  </thead>\n",
       "  <tbody>\n",
       "    <tr>\n",
       "      <th>0</th>\n",
       "      <td>2016</td>\n",
       "      <td>8000</td>\n",
       "      <td>Manual</td>\n",
       "      <td>38852</td>\n",
       "      <td>Petrol</td>\n",
       "      <td>1.0</td>\n",
       "    </tr>\n",
       "    <tr>\n",
       "      <th>1</th>\n",
       "      <td>2019</td>\n",
       "      <td>13400</td>\n",
       "      <td>Manual</td>\n",
       "      <td>11952</td>\n",
       "      <td>Petrol</td>\n",
       "      <td>1.0</td>\n",
       "    </tr>\n",
       "    <tr>\n",
       "      <th>2</th>\n",
       "      <td>2019</td>\n",
       "      <td>14600</td>\n",
       "      <td>Manual</td>\n",
       "      <td>22142</td>\n",
       "      <td>Petrol</td>\n",
       "      <td>1.5</td>\n",
       "    </tr>\n",
       "    <tr>\n",
       "      <th>3</th>\n",
       "      <td>2016</td>\n",
       "      <td>9450</td>\n",
       "      <td>Manual</td>\n",
       "      <td>14549</td>\n",
       "      <td>Diesel</td>\n",
       "      <td>1.6</td>\n",
       "    </tr>\n",
       "    <tr>\n",
       "      <th>4</th>\n",
       "      <td>2015</td>\n",
       "      <td>9999</td>\n",
       "      <td>Manual</td>\n",
       "      <td>7010</td>\n",
       "      <td>Diesel</td>\n",
       "      <td>1.6</td>\n",
       "    </tr>\n",
       "    <tr>\n",
       "      <th>...</th>\n",
       "      <td>...</td>\n",
       "      <td>...</td>\n",
       "      <td>...</td>\n",
       "      <td>...</td>\n",
       "      <td>...</td>\n",
       "      <td>...</td>\n",
       "    </tr>\n",
       "    <tr>\n",
       "      <th>5449</th>\n",
       "      <td>2019</td>\n",
       "      <td>18745</td>\n",
       "      <td>Manual</td>\n",
       "      <td>7855</td>\n",
       "      <td>Diesel</td>\n",
       "      <td>2.0</td>\n",
       "    </tr>\n",
       "    <tr>\n",
       "      <th>5450</th>\n",
       "      <td>2019</td>\n",
       "      <td>16350</td>\n",
       "      <td>Manual</td>\n",
       "      <td>13891</td>\n",
       "      <td>Petrol</td>\n",
       "      <td>1.0</td>\n",
       "    </tr>\n",
       "    <tr>\n",
       "      <th>5451</th>\n",
       "      <td>2019</td>\n",
       "      <td>16850</td>\n",
       "      <td>Manual</td>\n",
       "      <td>13452</td>\n",
       "      <td>Petrol</td>\n",
       "      <td>1.0</td>\n",
       "    </tr>\n",
       "    <tr>\n",
       "      <th>5452</th>\n",
       "      <td>2019</td>\n",
       "      <td>17310</td>\n",
       "      <td>Automatic</td>\n",
       "      <td>13376</td>\n",
       "      <td>Petrol</td>\n",
       "      <td>1.0</td>\n",
       "    </tr>\n",
       "    <tr>\n",
       "      <th>5453</th>\n",
       "      <td>2019</td>\n",
       "      <td>17610</td>\n",
       "      <td>Automatic</td>\n",
       "      <td>7886</td>\n",
       "      <td>Petrol</td>\n",
       "      <td>1.0</td>\n",
       "    </tr>\n",
       "  </tbody>\n",
       "</table>\n",
       "<p>5454 rows × 6 columns</p>\n",
       "</div>"
      ],
      "text/plain": [
       "      year  price transmission  mileage fuelType  engineSize\n",
       "0     2016   8000       Manual    38852   Petrol         1.0\n",
       "1     2019  13400       Manual    11952   Petrol         1.0\n",
       "2     2019  14600       Manual    22142   Petrol         1.5\n",
       "3     2016   9450       Manual    14549   Diesel         1.6\n",
       "4     2015   9999       Manual     7010   Diesel         1.6\n",
       "...    ...    ...          ...      ...      ...         ...\n",
       "5449  2019  18745       Manual     7855   Diesel         2.0\n",
       "5450  2019  16350       Manual    13891   Petrol         1.0\n",
       "5451  2019  16850       Manual    13452   Petrol         1.0\n",
       "5452  2019  17310    Automatic    13376   Petrol         1.0\n",
       "5453  2019  17610    Automatic     7886   Petrol         1.0\n",
       "\n",
       "[5454 rows x 6 columns]"
      ]
     },
     "execution_count": 12,
     "metadata": {},
     "output_type": "execute_result"
    }
   ],
   "source": [
    "df = df.drop('model', axis=1)\n",
    "df"
   ]
  },
  {
   "cell_type": "markdown",
   "id": "cad354bc",
   "metadata": {},
   "source": [
    "# Dataprep"
   ]
  },
  {
   "cell_type": "markdown",
   "id": "c704645d",
   "metadata": {},
   "source": [
    "## Since we have non-ordinal categorical variables, we need to use a One Hot encoder"
   ]
  },
  {
   "cell_type": "code",
   "execution_count": 16,
   "id": "9bb92eb9",
   "metadata": {},
   "outputs": [
    {
     "data": {
      "text/plain": [
       "year              int64\n",
       "price             int64\n",
       "transmission     object\n",
       "mileage           int64\n",
       "fuelType         object\n",
       "engineSize      float64\n",
       "dtype: object"
      ]
     },
     "execution_count": 16,
     "metadata": {},
     "output_type": "execute_result"
    }
   ],
   "source": [
    "df.dtypes"
   ]
  },
  {
   "cell_type": "code",
   "execution_count": 17,
   "id": "3a922a49",
   "metadata": {
    "scrolled": true
   },
   "outputs": [
    {
     "data": {
      "text/html": [
       "<div>\n",
       "<style scoped>\n",
       "    .dataframe tbody tr th:only-of-type {\n",
       "        vertical-align: middle;\n",
       "    }\n",
       "\n",
       "    .dataframe tbody tr th {\n",
       "        vertical-align: top;\n",
       "    }\n",
       "\n",
       "    .dataframe thead th {\n",
       "        text-align: right;\n",
       "    }\n",
       "</style>\n",
       "<table border=\"1\" class=\"dataframe\">\n",
       "  <thead>\n",
       "    <tr style=\"text-align: right;\">\n",
       "      <th></th>\n",
       "      <th>year</th>\n",
       "      <th>price</th>\n",
       "      <th>mileage</th>\n",
       "      <th>engineSize</th>\n",
       "      <th>transmission_Manual</th>\n",
       "      <th>transmission_Semi-Auto</th>\n",
       "      <th>fuelType_Petrol</th>\n",
       "    </tr>\n",
       "  </thead>\n",
       "  <tbody>\n",
       "    <tr>\n",
       "      <th>0</th>\n",
       "      <td>2016</td>\n",
       "      <td>8000</td>\n",
       "      <td>38852</td>\n",
       "      <td>1.0</td>\n",
       "      <td>1</td>\n",
       "      <td>0</td>\n",
       "      <td>1</td>\n",
       "    </tr>\n",
       "    <tr>\n",
       "      <th>1</th>\n",
       "      <td>2019</td>\n",
       "      <td>13400</td>\n",
       "      <td>11952</td>\n",
       "      <td>1.0</td>\n",
       "      <td>1</td>\n",
       "      <td>0</td>\n",
       "      <td>1</td>\n",
       "    </tr>\n",
       "    <tr>\n",
       "      <th>2</th>\n",
       "      <td>2019</td>\n",
       "      <td>14600</td>\n",
       "      <td>22142</td>\n",
       "      <td>1.5</td>\n",
       "      <td>1</td>\n",
       "      <td>0</td>\n",
       "      <td>1</td>\n",
       "    </tr>\n",
       "    <tr>\n",
       "      <th>3</th>\n",
       "      <td>2016</td>\n",
       "      <td>9450</td>\n",
       "      <td>14549</td>\n",
       "      <td>1.6</td>\n",
       "      <td>1</td>\n",
       "      <td>0</td>\n",
       "      <td>0</td>\n",
       "    </tr>\n",
       "    <tr>\n",
       "      <th>4</th>\n",
       "      <td>2015</td>\n",
       "      <td>9999</td>\n",
       "      <td>7010</td>\n",
       "      <td>1.6</td>\n",
       "      <td>1</td>\n",
       "      <td>0</td>\n",
       "      <td>0</td>\n",
       "    </tr>\n",
       "    <tr>\n",
       "      <th>...</th>\n",
       "      <td>...</td>\n",
       "      <td>...</td>\n",
       "      <td>...</td>\n",
       "      <td>...</td>\n",
       "      <td>...</td>\n",
       "      <td>...</td>\n",
       "      <td>...</td>\n",
       "    </tr>\n",
       "    <tr>\n",
       "      <th>5449</th>\n",
       "      <td>2019</td>\n",
       "      <td>18745</td>\n",
       "      <td>7855</td>\n",
       "      <td>2.0</td>\n",
       "      <td>1</td>\n",
       "      <td>0</td>\n",
       "      <td>0</td>\n",
       "    </tr>\n",
       "    <tr>\n",
       "      <th>5450</th>\n",
       "      <td>2019</td>\n",
       "      <td>16350</td>\n",
       "      <td>13891</td>\n",
       "      <td>1.0</td>\n",
       "      <td>1</td>\n",
       "      <td>0</td>\n",
       "      <td>1</td>\n",
       "    </tr>\n",
       "    <tr>\n",
       "      <th>5451</th>\n",
       "      <td>2019</td>\n",
       "      <td>16850</td>\n",
       "      <td>13452</td>\n",
       "      <td>1.0</td>\n",
       "      <td>1</td>\n",
       "      <td>0</td>\n",
       "      <td>1</td>\n",
       "    </tr>\n",
       "    <tr>\n",
       "      <th>5452</th>\n",
       "      <td>2019</td>\n",
       "      <td>17310</td>\n",
       "      <td>13376</td>\n",
       "      <td>1.0</td>\n",
       "      <td>0</td>\n",
       "      <td>0</td>\n",
       "      <td>1</td>\n",
       "    </tr>\n",
       "    <tr>\n",
       "      <th>5453</th>\n",
       "      <td>2019</td>\n",
       "      <td>17610</td>\n",
       "      <td>7886</td>\n",
       "      <td>1.0</td>\n",
       "      <td>0</td>\n",
       "      <td>0</td>\n",
       "      <td>1</td>\n",
       "    </tr>\n",
       "  </tbody>\n",
       "</table>\n",
       "<p>5454 rows × 7 columns</p>\n",
       "</div>"
      ],
      "text/plain": [
       "      year  price  mileage  engineSize  transmission_Manual  \\\n",
       "0     2016   8000    38852         1.0                    1   \n",
       "1     2019  13400    11952         1.0                    1   \n",
       "2     2019  14600    22142         1.5                    1   \n",
       "3     2016   9450    14549         1.6                    1   \n",
       "4     2015   9999     7010         1.6                    1   \n",
       "...    ...    ...      ...         ...                  ...   \n",
       "5449  2019  18745     7855         2.0                    1   \n",
       "5450  2019  16350    13891         1.0                    1   \n",
       "5451  2019  16850    13452         1.0                    1   \n",
       "5452  2019  17310    13376         1.0                    0   \n",
       "5453  2019  17610     7886         1.0                    0   \n",
       "\n",
       "      transmission_Semi-Auto  fuelType_Petrol  \n",
       "0                          0                1  \n",
       "1                          0                1  \n",
       "2                          0                1  \n",
       "3                          0                0  \n",
       "4                          0                0  \n",
       "...                      ...              ...  \n",
       "5449                       0                0  \n",
       "5450                       0                1  \n",
       "5451                       0                1  \n",
       "5452                       0                1  \n",
       "5453                       0                1  \n",
       "\n",
       "[5454 rows x 7 columns]"
      ]
     },
     "execution_count": 17,
     "metadata": {},
     "output_type": "execute_result"
    }
   ],
   "source": [
    "df_onehot = pd.get_dummies(df, drop_first=True)\n",
    "df_onehot"
   ]
  },
  {
   "cell_type": "markdown",
   "id": "3d8a9e85",
   "metadata": {},
   "source": [
    "# Data Modeling"
   ]
  },
  {
   "cell_type": "code",
   "execution_count": 18,
   "id": "b8baf998",
   "metadata": {},
   "outputs": [
    {
     "data": {
      "text/html": [
       "<div>\n",
       "<style scoped>\n",
       "    .dataframe tbody tr th:only-of-type {\n",
       "        vertical-align: middle;\n",
       "    }\n",
       "\n",
       "    .dataframe tbody tr th {\n",
       "        vertical-align: top;\n",
       "    }\n",
       "\n",
       "    .dataframe thead th {\n",
       "        text-align: right;\n",
       "    }\n",
       "</style>\n",
       "<table border=\"1\" class=\"dataframe\">\n",
       "  <thead>\n",
       "    <tr style=\"text-align: right;\">\n",
       "      <th></th>\n",
       "      <th>year</th>\n",
       "      <th>mileage</th>\n",
       "      <th>engineSize</th>\n",
       "      <th>transmission_Manual</th>\n",
       "      <th>transmission_Semi-Auto</th>\n",
       "      <th>fuelType_Petrol</th>\n",
       "    </tr>\n",
       "  </thead>\n",
       "  <tbody>\n",
       "    <tr>\n",
       "      <th>0</th>\n",
       "      <td>2016</td>\n",
       "      <td>38852</td>\n",
       "      <td>1.0</td>\n",
       "      <td>1</td>\n",
       "      <td>0</td>\n",
       "      <td>1</td>\n",
       "    </tr>\n",
       "    <tr>\n",
       "      <th>1</th>\n",
       "      <td>2019</td>\n",
       "      <td>11952</td>\n",
       "      <td>1.0</td>\n",
       "      <td>1</td>\n",
       "      <td>0</td>\n",
       "      <td>1</td>\n",
       "    </tr>\n",
       "    <tr>\n",
       "      <th>2</th>\n",
       "      <td>2019</td>\n",
       "      <td>22142</td>\n",
       "      <td>1.5</td>\n",
       "      <td>1</td>\n",
       "      <td>0</td>\n",
       "      <td>1</td>\n",
       "    </tr>\n",
       "    <tr>\n",
       "      <th>3</th>\n",
       "      <td>2016</td>\n",
       "      <td>14549</td>\n",
       "      <td>1.6</td>\n",
       "      <td>1</td>\n",
       "      <td>0</td>\n",
       "      <td>0</td>\n",
       "    </tr>\n",
       "    <tr>\n",
       "      <th>4</th>\n",
       "      <td>2015</td>\n",
       "      <td>7010</td>\n",
       "      <td>1.6</td>\n",
       "      <td>1</td>\n",
       "      <td>0</td>\n",
       "      <td>0</td>\n",
       "    </tr>\n",
       "    <tr>\n",
       "      <th>...</th>\n",
       "      <td>...</td>\n",
       "      <td>...</td>\n",
       "      <td>...</td>\n",
       "      <td>...</td>\n",
       "      <td>...</td>\n",
       "      <td>...</td>\n",
       "    </tr>\n",
       "    <tr>\n",
       "      <th>5449</th>\n",
       "      <td>2019</td>\n",
       "      <td>7855</td>\n",
       "      <td>2.0</td>\n",
       "      <td>1</td>\n",
       "      <td>0</td>\n",
       "      <td>0</td>\n",
       "    </tr>\n",
       "    <tr>\n",
       "      <th>5450</th>\n",
       "      <td>2019</td>\n",
       "      <td>13891</td>\n",
       "      <td>1.0</td>\n",
       "      <td>1</td>\n",
       "      <td>0</td>\n",
       "      <td>1</td>\n",
       "    </tr>\n",
       "    <tr>\n",
       "      <th>5451</th>\n",
       "      <td>2019</td>\n",
       "      <td>13452</td>\n",
       "      <td>1.0</td>\n",
       "      <td>1</td>\n",
       "      <td>0</td>\n",
       "      <td>1</td>\n",
       "    </tr>\n",
       "    <tr>\n",
       "      <th>5452</th>\n",
       "      <td>2019</td>\n",
       "      <td>13376</td>\n",
       "      <td>1.0</td>\n",
       "      <td>0</td>\n",
       "      <td>0</td>\n",
       "      <td>1</td>\n",
       "    </tr>\n",
       "    <tr>\n",
       "      <th>5453</th>\n",
       "      <td>2019</td>\n",
       "      <td>7886</td>\n",
       "      <td>1.0</td>\n",
       "      <td>0</td>\n",
       "      <td>0</td>\n",
       "      <td>1</td>\n",
       "    </tr>\n",
       "  </tbody>\n",
       "</table>\n",
       "<p>5454 rows × 6 columns</p>\n",
       "</div>"
      ],
      "text/plain": [
       "      year  mileage  engineSize  transmission_Manual  transmission_Semi-Auto  \\\n",
       "0     2016    38852         1.0                    1                       0   \n",
       "1     2019    11952         1.0                    1                       0   \n",
       "2     2019    22142         1.5                    1                       0   \n",
       "3     2016    14549         1.6                    1                       0   \n",
       "4     2015     7010         1.6                    1                       0   \n",
       "...    ...      ...         ...                  ...                     ...   \n",
       "5449  2019     7855         2.0                    1                       0   \n",
       "5450  2019    13891         1.0                    1                       0   \n",
       "5451  2019    13452         1.0                    1                       0   \n",
       "5452  2019    13376         1.0                    0                       0   \n",
       "5453  2019     7886         1.0                    0                       0   \n",
       "\n",
       "      fuelType_Petrol  \n",
       "0                   1  \n",
       "1                   1  \n",
       "2                   1  \n",
       "3                   0  \n",
       "4                   0  \n",
       "...               ...  \n",
       "5449                0  \n",
       "5450                1  \n",
       "5451                1  \n",
       "5452                1  \n",
       "5453                1  \n",
       "\n",
       "[5454 rows x 6 columns]"
      ]
     },
     "execution_count": 18,
     "metadata": {},
     "output_type": "execute_result"
    }
   ],
   "source": [
    "X = df_onehot.drop('price', axis=1)\n",
    "y = df_onehot.price\n",
    "X"
   ]
  },
  {
   "cell_type": "code",
   "execution_count": 22,
   "id": "6a34a6b6",
   "metadata": {
    "scrolled": true
   },
   "outputs": [
    {
     "data": {
      "image/png": "[encoded data removed]",
      "text/plain": [
       "<Figure size 1080x360 with 1 Axes>"
      ]
     },
     "metadata": {
      "needs_background": "light"
     },
     "output_type": "display_data"
    }
   ],
   "source": [
    "plt.figure(figsize=(15, 5))\n",
    "plt.hist(y, bins=30, rwidth=.9);"
   ]
  },
  {
   "cell_type": "code",
   "execution_count": 23,
   "id": "c23a4a71",
   "metadata": {},
   "outputs": [
    {
     "data": {
      "image/png": "[encoded data removed]",
      "text/plain": [
       "<Figure size 1080x360 with 1 Axes>"
      ]
     },
     "metadata": {
      "needs_background": "light"
     },
     "output_type": "display_data"
    }
   ],
   "source": [
    "plt.figure(figsize=(15, 5))\n",
    "plt.hist(y, bins=30, rwidth=.9, log=True);"
   ]
  },
  {
   "cell_type": "markdown",
   "id": "e1502329",
   "metadata": {},
   "source": [
    "### Apart from a couple of outliers (that bought the cars for a way higher price), most of our sales were made between the 10k and 20k price tag."
   ]
  },
  {
   "cell_type": "markdown",
   "id": "1c8da124",
   "metadata": {},
   "source": [
    "# Training the model"
   ]
  },
  {
   "cell_type": "code",
   "execution_count": 24,
   "id": "eb9e5eaf",
   "metadata": {},
   "outputs": [],
   "source": [
    "from sklearn.model_selection import train_test_split\n",
    "\n",
    "X_tr, X_ts, y_tr, y_ts = train_test_split(X, y, test_size=.3, random_state=2021)"
   ]
  },
  {
   "cell_type": "code",
   "execution_count": 25,
   "id": "8071f8ed",
   "metadata": {},
   "outputs": [
    {
     "data": {
      "text/plain": [
       "((3817, 6), (1637, 6))"
      ]
     },
     "execution_count": 25,
     "metadata": {},
     "output_type": "execute_result"
    }
   ],
   "source": [
    "X_tr.shape, X_ts.shape"
   ]
  },
  {
   "cell_type": "markdown",
   "id": "6a4e6cac",
   "metadata": {},
   "source": [
    "# Data normalization"
   ]
  },
  {
   "cell_type": "code",
   "execution_count": 26,
   "id": "37a0dd06",
   "metadata": {},
   "outputs": [],
   "source": [
    "from sklearn.preprocessing import StandardScaler\n",
    "\n",
    "X_tr_s = X_tr.copy()\n",
    "X_ts_s = X_ts.copy()\n",
    "\n",
    "cols_to_scale= [\n",
    "    'year',\n",
    "    'mileage',\n",
    "    'engineSize'\n",
    "]\n",
    "\n",
    "scalers = {}\n",
    "for col in cols_to_scale:\n",
    "    scalers[col] = StandardScaler()\n",
    "    scalers[col].fit(X_tr_s[[col]])\n",
    "    X_tr_s.loc[:, col] = scalers[col].transform(X_tr_s[[col]])\n",
    "    X_ts_s.loc[:, col] = scalers[col].transform(X_ts_s[[col]])"
   ]
  },
  {
   "cell_type": "code",
   "execution_count": 27,
   "id": "ce1e0e8d",
   "metadata": {},
   "outputs": [
    {
     "data": {
      "text/html": [
       "<div>\n",
       "<style scoped>\n",
       "    .dataframe tbody tr th:only-of-type {\n",
       "        vertical-align: middle;\n",
       "    }\n",
       "\n",
       "    .dataframe tbody tr th {\n",
       "        vertical-align: top;\n",
       "    }\n",
       "\n",
       "    .dataframe thead th {\n",
       "        text-align: right;\n",
       "    }\n",
       "</style>\n",
       "<table border=\"1\" class=\"dataframe\">\n",
       "  <thead>\n",
       "    <tr style=\"text-align: right;\">\n",
       "      <th></th>\n",
       "      <th>year</th>\n",
       "      <th>mileage</th>\n",
       "      <th>engineSize</th>\n",
       "      <th>transmission_Manual</th>\n",
       "      <th>transmission_Semi-Auto</th>\n",
       "      <th>fuelType_Petrol</th>\n",
       "    </tr>\n",
       "  </thead>\n",
       "  <tbody>\n",
       "    <tr>\n",
       "      <th>2285</th>\n",
       "      <td>-0.064717</td>\n",
       "      <td>-0.409304</td>\n",
       "      <td>-0.902867</td>\n",
       "      <td>0</td>\n",
       "      <td>1</td>\n",
       "      <td>1</td>\n",
       "    </tr>\n",
       "    <tr>\n",
       "      <th>4758</th>\n",
       "      <td>0.862199</td>\n",
       "      <td>-0.496792</td>\n",
       "      <td>-0.902867</td>\n",
       "      <td>1</td>\n",
       "      <td>0</td>\n",
       "      <td>1</td>\n",
       "    </tr>\n",
       "    <tr>\n",
       "      <th>3386</th>\n",
       "      <td>-0.528175</td>\n",
       "      <td>-0.362401</td>\n",
       "      <td>1.598035</td>\n",
       "      <td>0</td>\n",
       "      <td>1</td>\n",
       "      <td>0</td>\n",
       "    </tr>\n",
       "    <tr>\n",
       "      <th>2843</th>\n",
       "      <td>0.398741</td>\n",
       "      <td>-0.510644</td>\n",
       "      <td>1.598035</td>\n",
       "      <td>1</td>\n",
       "      <td>0</td>\n",
       "      <td>1</td>\n",
       "    </tr>\n",
       "    <tr>\n",
       "      <th>5307</th>\n",
       "      <td>0.862199</td>\n",
       "      <td>-0.675315</td>\n",
       "      <td>-0.902867</td>\n",
       "      <td>1</td>\n",
       "      <td>0</td>\n",
       "      <td>1</td>\n",
       "    </tr>\n",
       "    <tr>\n",
       "      <th>...</th>\n",
       "      <td>...</td>\n",
       "      <td>...</td>\n",
       "      <td>...</td>\n",
       "      <td>...</td>\n",
       "      <td>...</td>\n",
       "      <td>...</td>\n",
       "    </tr>\n",
       "    <tr>\n",
       "      <th>3934</th>\n",
       "      <td>-0.991633</td>\n",
       "      <td>0.309844</td>\n",
       "      <td>0.597674</td>\n",
       "      <td>1</td>\n",
       "      <td>0</td>\n",
       "      <td>0</td>\n",
       "    </tr>\n",
       "    <tr>\n",
       "      <th>2669</th>\n",
       "      <td>0.398741</td>\n",
       "      <td>-0.726252</td>\n",
       "      <td>-0.902867</td>\n",
       "      <td>1</td>\n",
       "      <td>0</td>\n",
       "      <td>1</td>\n",
       "    </tr>\n",
       "    <tr>\n",
       "      <th>1152</th>\n",
       "      <td>-0.991633</td>\n",
       "      <td>1.983871</td>\n",
       "      <td>0.597674</td>\n",
       "      <td>1</td>\n",
       "      <td>0</td>\n",
       "      <td>0</td>\n",
       "    </tr>\n",
       "    <tr>\n",
       "      <th>3413</th>\n",
       "      <td>-0.064717</td>\n",
       "      <td>0.044173</td>\n",
       "      <td>0.347584</td>\n",
       "      <td>1</td>\n",
       "      <td>0</td>\n",
       "      <td>0</td>\n",
       "    </tr>\n",
       "    <tr>\n",
       "      <th>1140</th>\n",
       "      <td>0.398741</td>\n",
       "      <td>-0.129587</td>\n",
       "      <td>1.598035</td>\n",
       "      <td>1</td>\n",
       "      <td>0</td>\n",
       "      <td>1</td>\n",
       "    </tr>\n",
       "  </tbody>\n",
       "</table>\n",
       "<p>3817 rows × 6 columns</p>\n",
       "</div>"
      ],
      "text/plain": [
       "          year   mileage  engineSize  transmission_Manual  \\\n",
       "2285 -0.064717 -0.409304   -0.902867                    0   \n",
       "4758  0.862199 -0.496792   -0.902867                    1   \n",
       "3386 -0.528175 -0.362401    1.598035                    0   \n",
       "2843  0.398741 -0.510644    1.598035                    1   \n",
       "5307  0.862199 -0.675315   -0.902867                    1   \n",
       "...        ...       ...         ...                  ...   \n",
       "3934 -0.991633  0.309844    0.597674                    1   \n",
       "2669  0.398741 -0.726252   -0.902867                    1   \n",
       "1152 -0.991633  1.983871    0.597674                    1   \n",
       "3413 -0.064717  0.044173    0.347584                    1   \n",
       "1140  0.398741 -0.129587    1.598035                    1   \n",
       "\n",
       "      transmission_Semi-Auto  fuelType_Petrol  \n",
       "2285                       1                1  \n",
       "4758                       0                1  \n",
       "3386                       1                0  \n",
       "2843                       0                1  \n",
       "5307                       0                1  \n",
       "...                      ...              ...  \n",
       "3934                       0                0  \n",
       "2669                       0                1  \n",
       "1152                       0                0  \n",
       "3413                       0                0  \n",
       "1140                       0                1  \n",
       "\n",
       "[3817 rows x 6 columns]"
      ]
     },
     "execution_count": 27,
     "metadata": {},
     "output_type": "execute_result"
    }
   ],
   "source": [
    "X_tr_s"
   ]
  },
  {
   "cell_type": "markdown",
   "id": "e2fe9d78",
   "metadata": {},
   "source": [
    "# Model fitting"
   ]
  },
  {
   "cell_type": "code",
   "execution_count": 28,
   "id": "ddc86c32",
   "metadata": {},
   "outputs": [
    {
     "data": {
      "text/plain": [
       "LinearRegression(n_jobs=-1)"
      ]
     },
     "execution_count": 28,
     "metadata": {},
     "output_type": "execute_result"
    }
   ],
   "source": [
    "from sklearn.linear_model import LinearRegression\n",
    "\n",
    "lr = LinearRegression(\n",
    "    fit_intercept=True,\n",
    "    normalize=False,\n",
    "    n_jobs=-1\n",
    ")\n",
    "\n",
    "lr.fit(X_tr_s, y_tr)"
   ]
  },
  {
   "cell_type": "code",
   "execution_count": 30,
   "id": "170218af",
   "metadata": {},
   "outputs": [
    {
     "data": {
      "text/plain": [
       "array([10638.45381089, 15812.54711409, 11667.16266736, ...,\n",
       "       18028.40601446, 16074.02397388, 10217.85832145])"
      ]
     },
     "execution_count": 30,
     "metadata": {},
     "output_type": "execute_result"
    }
   ],
   "source": [
    "y_pred = lr.predict(X_ts_s)\n",
    "y_pred"
   ]
  },
  {
   "cell_type": "code",
   "execution_count": 32,
   "id": "8b10380d",
   "metadata": {
    "scrolled": true
   },
   "outputs": [
    {
     "data": {
      "text/html": [
       "<div>\n",
       "<style scoped>\n",
       "    .dataframe tbody tr th:only-of-type {\n",
       "        vertical-align: middle;\n",
       "    }\n",
       "\n",
       "    .dataframe tbody tr th {\n",
       "        vertical-align: top;\n",
       "    }\n",
       "\n",
       "    .dataframe thead th {\n",
       "        text-align: right;\n",
       "    }\n",
       "</style>\n",
       "<table border=\"1\" class=\"dataframe\">\n",
       "  <thead>\n",
       "    <tr style=\"text-align: right;\">\n",
       "      <th></th>\n",
       "      <th>year</th>\n",
       "      <th>mileage</th>\n",
       "      <th>engineSize</th>\n",
       "      <th>transmission_Manual</th>\n",
       "      <th>transmission_Semi-Auto</th>\n",
       "      <th>fuelType_Petrol</th>\n",
       "    </tr>\n",
       "  </thead>\n",
       "  <tbody>\n",
       "    <tr>\n",
       "      <th>4237</th>\n",
       "      <td>2017</td>\n",
       "      <td>43839</td>\n",
       "      <td>1.0</td>\n",
       "      <td>1</td>\n",
       "      <td>0</td>\n",
       "      <td>1</td>\n",
       "    </tr>\n",
       "    <tr>\n",
       "      <th>442</th>\n",
       "      <td>2019</td>\n",
       "      <td>13699</td>\n",
       "      <td>1.5</td>\n",
       "      <td>1</td>\n",
       "      <td>0</td>\n",
       "      <td>0</td>\n",
       "    </tr>\n",
       "    <tr>\n",
       "      <th>4683</th>\n",
       "      <td>2016</td>\n",
       "      <td>17507</td>\n",
       "      <td>1.5</td>\n",
       "      <td>1</td>\n",
       "      <td>0</td>\n",
       "      <td>0</td>\n",
       "    </tr>\n",
       "    <tr>\n",
       "      <th>4944</th>\n",
       "      <td>2019</td>\n",
       "      <td>6108</td>\n",
       "      <td>2.3</td>\n",
       "      <td>1</td>\n",
       "      <td>0</td>\n",
       "      <td>1</td>\n",
       "    </tr>\n",
       "    <tr>\n",
       "      <th>3350</th>\n",
       "      <td>2015</td>\n",
       "      <td>13234</td>\n",
       "      <td>1.6</td>\n",
       "      <td>1</td>\n",
       "      <td>0</td>\n",
       "      <td>0</td>\n",
       "    </tr>\n",
       "  </tbody>\n",
       "</table>\n",
       "</div>"
      ],
      "text/plain": [
       "      year  mileage  engineSize  transmission_Manual  transmission_Semi-Auto  \\\n",
       "4237  2017    43839         1.0                    1                       0   \n",
       "442   2019    13699         1.5                    1                       0   \n",
       "4683  2016    17507         1.5                    1                       0   \n",
       "4944  2019     6108         2.3                    1                       0   \n",
       "3350  2015    13234         1.6                    1                       0   \n",
       "\n",
       "      fuelType_Petrol  \n",
       "4237                1  \n",
       "442                 0  \n",
       "4683                0  \n",
       "4944                1  \n",
       "3350                0  "
      ]
     },
     "execution_count": 32,
     "metadata": {},
     "output_type": "execute_result"
    }
   ],
   "source": [
    "X_ts.head()"
   ]
  },
  {
   "cell_type": "markdown",
   "id": "96580351",
   "metadata": {},
   "source": [
    "# Validating the regression"
   ]
  },
  {
   "cell_type": "code",
   "execution_count": 34,
   "id": "2d2ad6cb",
   "metadata": {},
   "outputs": [
    {
     "data": {
      "text/plain": [
       "1840.2644674413048"
      ]
     },
     "execution_count": 34,
     "metadata": {},
     "output_type": "execute_result"
    }
   ],
   "source": [
    "from sklearn.metrics import mean_squared_error\n",
    "\n",
    "np.sqrt(mean_squared_error(y_ts, y_pred))"
   ]
  },
  {
   "cell_type": "code",
   "execution_count": 35,
   "id": "99e9b93d",
   "metadata": {},
   "outputs": [
    {
     "data": {
      "text/plain": [
       "36.57480306808973"
      ]
     },
     "execution_count": 35,
     "metadata": {},
     "output_type": "execute_result"
    }
   ],
   "source": [
    "from sklearn.metrics import mean_absolute_error\n",
    "\n",
    "np.sqrt(mean_absolute_error(y_ts, y_pred))"
   ]
  },
  {
   "cell_type": "markdown",
   "id": "0d9ca37b",
   "metadata": {},
   "source": [
    "### The difference between the MSE and MAE was probably caused by the outlier values. \n",
    "- The MSE gives a bigger importance to outliers\n",
    "### It's also interesting to verify if our model is biased (if the errors are randomized or if they usually tend to be higher/lower than the predicted values)."
   ]
  },
  {
   "cell_type": "code",
   "execution_count": 38,
   "id": "c04531c0",
   "metadata": {
    "scrolled": true
   },
   "outputs": [
    {
     "data": {
      "image/png": "[encoded data removed]",
      "text/plain": [
       "<Figure size 1080x360 with 1 Axes>"
      ]
     },
     "metadata": {
      "needs_background": "light"
     },
     "output_type": "display_data"
    }
   ],
   "source": [
    "plt.figure(figsize=(15, 5))\n",
    "M = y_ts.max()\n",
    "plt.hist(y_ts, bins=np.linspace(0, M, 20), rwidth=.8, alpha=.3, color='b', density=True)\n",
    "plt.hist(y_pred, bins=np.linspace(0, M, 20), rwidth=.8, alpha=.3, color='r', density=True);"
   ]
  },
  {
   "cell_type": "code",
   "execution_count": 46,
   "id": "1ff7f429",
   "metadata": {
    "scrolled": true
   },
   "outputs": [
    {
     "data": {
      "image/png": "[encoded data removed]",
      "text/plain": [
       "<Figure size 1080x360 with 1 Axes>"
      ]
     },
     "metadata": {
      "needs_background": "light"
     },
     "output_type": "display_data"
    }
   ],
   "source": [
    "plt.figure(figsize=(15, 5))\n",
    "plt.hist(y_pred-y_ts, bins=10, rwidth=.8, density=False, log=True);"
   ]
  },
  {
   "cell_type": "markdown",
   "id": "69149d34",
   "metadata": {},
   "source": [
    "### This model tends to predict lower values for the sales prices than the real ones. This has probably happened because of the outliers. We could also come up with hipotheses as to why this is happening:\n",
    "- This could indicate that some salesmen manage to sell these cars for a higher price; \n",
    "\n",
    "or \n",
    "- Some clients are willing to pay more in order to \"secure\" the car that they want."
   ]
  },
  {
   "cell_type": "markdown",
   "id": "8f8c9b8e",
   "metadata": {},
   "source": [
    "# Interpreting"
   ]
  },
  {
   "cell_type": "code",
   "execution_count": 47,
   "id": "20aff6b1",
   "metadata": {},
   "outputs": [
    {
     "data": {
      "text/plain": [
       "12885.705771087753"
      ]
     },
     "execution_count": 47,
     "metadata": {},
     "output_type": "execute_result"
    }
   ],
   "source": [
    "lr.intercept_"
   ]
  },
  {
   "cell_type": "code",
   "execution_count": 48,
   "id": "afdd8440",
   "metadata": {
    "scrolled": true
   },
   "outputs": [
    {
     "data": {
      "text/plain": [
       "array([ 2811.89045316, -1274.03816469,  2507.541809  ,  -933.53305405,\n",
       "       -2148.06938226,  2434.23015831])"
      ]
     },
     "execution_count": 48,
     "metadata": {},
     "output_type": "execute_result"
    }
   ],
   "source": [
    "lr.coef_"
   ]
  },
  {
   "cell_type": "code",
   "execution_count": 49,
   "id": "db9f5045",
   "metadata": {
    "scrolled": true
   },
   "outputs": [
    {
     "name": "stdout",
     "output_type": "stream",
     "text": [
      "year                                     : 2811.890\n",
      "mileage                                  : -1274.038\n",
      "engineSize                               : 2507.542\n",
      "transmission_Manual                      : -933.533\n",
      "transmission_Semi-Auto                   : -2148.069\n",
      "fuelType_Petrol                          : 2434.230\n"
     ]
    }
   ],
   "source": [
    "for col, coef in zip(X_tr.columns, lr.coef_):\n",
    "    print(f'{col:40s} : {coef:7.3f}')"
   ]
  },
  {
   "cell_type": "markdown",
   "id": "bf0ee87a",
   "metadata": {},
   "source": [
    "### If a variable presents a negative coef, that means that the bigger that said variable is, the lower is the price of our cars"
   ]
  },
  {
   "cell_type": "markdown",
   "id": "8100e1a6",
   "metadata": {},
   "source": [
    "## The intercept gives us the price of our \"default\" car, which means that if all our variables are nulls, the car (with these characteristics) should cost the value of the intercept"
   ]
  },
  {
   "cell_type": "code",
   "execution_count": 51,
   "id": "9e155a68",
   "metadata": {},
   "outputs": [
    {
     "name": "stdout",
     "output_type": "stream",
     "text": [
      "year [2017.13963846] [2.1576929]\n",
      "mileage [22813.16505109] [20574.34346233]\n",
      "engineSize [1.36101651] [0.39985564]\n"
     ]
    }
   ],
   "source": [
    "print( 'year', scalers['year'].mean_, scalers['year'].scale_)\n",
    "print( 'mileage', scalers['mileage'].mean_, scalers['mileage'].scale_)\n",
    "print( 'engineSize', scalers['engineSize'].mean_, scalers['engineSize'].scale_)"
   ]
  },
  {
   "cell_type": "markdown",
   "id": "31d04e4e",
   "metadata": {},
   "source": [
    "## Our \"default\" car characteristics are:\n",
    "### - year = 2017\n",
    "### - mileage = 22813 miles\n",
    "### - engineSize = 1.36\n",
    "### - fuelType = Diesel\n",
    "### - transmission = Automatic\n",
    "## This car costs 12886 dollars"
   ]
  },
  {
   "cell_type": "code",
   "execution_count": 52,
   "id": "b26796bf",
   "metadata": {},
   "outputs": [
    {
     "name": "stdout",
     "output_type": "stream",
     "text": [
      "year                                     : 2811.890\n",
      "mileage                                  : -1274.038\n",
      "engineSize                               : 2507.542\n",
      "transmission_Manual                      : -933.533\n",
      "transmission_Semi-Auto                   : -2148.069\n",
      "fuelType_Petrol                          : 2434.230\n"
     ]
    }
   ],
   "source": [
    "for col, coef in zip(X_tr.columns, lr.coef_):\n",
    "    print(f'{col:40s} : {coef:7.3f}')"
   ]
  },
  {
   "cell_type": "markdown",
   "id": "29b09cb4",
   "metadata": {},
   "source": [
    "### That also means that our model predicts that:\n",
    "- every 2.15 years, the car depreciates 2811 dollars in its value;\n",
    "- every 20574 miles, the car depreciates 1274 dollars in its value;\n",
    "- every 0.4 in engineSize, the car depreciates 2507 dollars in its value;\n",
    "- Manual cars are 934 dollars cheaper than Automatic cars;\n",
    "- Semi-Auto cars are 2148 dollars cheaper than Automatic cars;\n",
    "- Cars that are fueled by Petrol are 2434 dollars more expensive than Diesel cars."
   ]
  }
 ],
 "metadata": {
  "kernelspec": {
   "display_name": "Python 3",
   "language": "python",
   "name": "python3"
  },
  "language_info": {
   "codemirror_mode": {
    "name": "ipython",
    "version": 3
   },
   "file_extension": ".py",
   "mimetype": "text/x-python",
   "name": "python",
   "nbconvert_exporter": "python",
   "pygments_lexer": "ipython3",
   "version": "3.8.8"
  }
 },
 "nbformat": 4,
 "nbformat_minor": 5
}
